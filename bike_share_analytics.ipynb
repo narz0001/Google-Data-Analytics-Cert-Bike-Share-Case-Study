{
 "cells": [
  {
   "cell_type": "markdown",
   "source": [
    "# Bike Share Market Strategy Case Study for Google Data Analytics Certification \n",
    "## (Details in the Readme file) <br> We will follow A-P-P-A-S-A Framework."
   ],
   "metadata": {
    "collapsed": false
   },
   "id": "a07b7789ed793306"
  },
  {
   "cell_type": "markdown",
   "source": [
    "# 1. *__Ask__*\n",
    "### ● What is the problem you are trying to solve?<br> ● How can your insights drive business decisions?<br><br> Key tasks\n",
    "#### 1. Identify the business task<br>2. Consider key stakeholders\n",
    "### Deliverable: <br> A clear statement of the business task"
   ],
   "metadata": {
    "collapsed": false
   },
   "id": "3bfd20a3af73e282"
  },
  {
   "cell_type": "markdown",
   "source": [
    "## Response To *__Ask__* \n",
    "### Identify trends using historical bike trip data to understand the difference between Casual vs. Annual members and the reason for annual subscriptions, to drive Marketing campaigns targeted to convert Casual members to Annual members."
   ],
   "metadata": {
    "collapsed": false
   },
   "id": "a3d9cfefb012356"
  },
  {
   "cell_type": "markdown",
   "source": [
    "# 2. *__Prepare__*\n",
    "### ● Data preparation and elementary review on the dataset<br><br> Key tasks\n",
    "#### 1. Download data and store it appropriately.<br>2. Identify how it’s organized.<br>3. Sort and filter the data.<br>4. Determine the credibility of the data.\n",
    "### Deliverable: <br> A description of all data sources used."
   ],
   "metadata": {
    "collapsed": false
   },
   "id": "3ad536e665d025df"
  },
  {
   "cell_type": "code",
   "execution_count": 5,
   "outputs": [],
   "source": [
    "import pandas as pd\n",
    "import numpy as np"
   ],
   "metadata": {
    "collapsed": false,
    "ExecuteTime": {
     "end_time": "2023-09-30T16:23:59.838457Z",
     "start_time": "2023-09-30T16:23:59.743653Z"
    }
   },
   "id": "e559d8056defd7f3"
  },
  {
   "cell_type": "code",
   "execution_count": 6,
   "outputs": [
    {
     "name": "stdout",
     "output_type": "stream",
     "text": [
      "<class 'pandas.core.frame.DataFrame'>\n",
      "RangeIndex: 426590 entries, 0 to 426589\n",
      "Data columns (total 13 columns):\n",
      " #   Column              Non-Null Count   Dtype  \n",
      "---  ------              --------------   -----  \n",
      " 0   ride_id             426590 non-null  object \n",
      " 1   rideable_type       426590 non-null  object \n",
      " 2   started_at          426590 non-null  object \n",
      " 3   ended_at            426590 non-null  object \n",
      " 4   start_station_name  362776 non-null  object \n",
      " 5   start_station_id    362776 non-null  object \n",
      " 6   end_station_name    357960 non-null  object \n",
      " 7   end_station_id      357960 non-null  object \n",
      " 8   start_lat           426590 non-null  float64\n",
      " 9   start_lng           426590 non-null  float64\n",
      " 10  end_lat             426155 non-null  float64\n",
      " 11  end_lng             426155 non-null  float64\n",
      " 12  member_casual       426590 non-null  object \n",
      "dtypes: float64(4), object(9)\n",
      "memory usage: 42.3+ MB\n"
     ]
    },
    {
     "data": {
      "text/plain": "            ride_id  rideable_type           started_at             ended_at  \\\n0  8FE8F7D9C10E88C7  electric_bike  2023-04-02 08:37:28  2023-04-02 08:41:37   \n1  34E4ED3ADF1D821B  electric_bike  2023-04-19 11:29:02  2023-04-19 11:52:12   \n2  5296BF07A2F77CB5  electric_bike  2023-04-19 08:41:22  2023-04-19 08:43:22   \n3  40759916B76D5D52  electric_bike  2023-04-19 13:31:30  2023-04-19 13:35:09   \n4  77A96F460101AC63  electric_bike  2023-04-19 12:05:36  2023-04-19 12:10:26   \n5  8D6A2328E19DC168  electric_bike  2023-04-19 12:17:34  2023-04-19 12:21:38   \n6  C97BBA66E07889F9  electric_bike  2023-04-19 09:35:48  2023-04-19 09:45:00   \n7  6687AD4C575FF734  electric_bike  2023-04-11 16:13:43  2023-04-11 16:18:41   \n8  A8FA4F73B22BC11F  electric_bike  2023-04-11 16:29:24  2023-04-11 16:40:23   \n9  81E158FE63D99994  electric_bike  2023-04-19 17:35:40  2023-04-19 17:36:11   \n\n  start_station_name start_station_id end_station_name end_station_id  \\\n0                NaN              NaN              NaN            NaN   \n1                NaN              NaN              NaN            NaN   \n2                NaN              NaN              NaN            NaN   \n3                NaN              NaN              NaN            NaN   \n4                NaN              NaN              NaN            NaN   \n5                NaN              NaN              NaN            NaN   \n6                NaN              NaN              NaN            NaN   \n7                NaN              NaN              NaN            NaN   \n8                NaN              NaN              NaN            NaN   \n9                NaN              NaN              NaN            NaN   \n\n   start_lat  start_lng  end_lat  end_lng member_casual  \n0      41.80     -87.60    41.79   -87.60        member  \n1      41.87     -87.65    41.93   -87.68        member  \n2      41.93     -87.66    41.93   -87.66        member  \n3      41.92     -87.65    41.91   -87.65        member  \n4      41.91     -87.65    41.91   -87.63        member  \n5      41.91     -87.63    41.92   -87.65        member  \n6      41.93     -87.66    41.91   -87.65        member  \n7      42.00     -87.66    41.99   -87.66        member  \n8      41.99     -87.66    42.00   -87.66        member  \n9      41.88     -87.65    41.88   -87.65        member  ",
      "text/html": "<div>\n<style scoped>\n    .dataframe tbody tr th:only-of-type {\n        vertical-align: middle;\n    }\n\n    .dataframe tbody tr th {\n        vertical-align: top;\n    }\n\n    .dataframe thead th {\n        text-align: right;\n    }\n</style>\n<table border=\"1\" class=\"dataframe\">\n  <thead>\n    <tr style=\"text-align: right;\">\n      <th></th>\n      <th>ride_id</th>\n      <th>rideable_type</th>\n      <th>started_at</th>\n      <th>ended_at</th>\n      <th>start_station_name</th>\n      <th>start_station_id</th>\n      <th>end_station_name</th>\n      <th>end_station_id</th>\n      <th>start_lat</th>\n      <th>start_lng</th>\n      <th>end_lat</th>\n      <th>end_lng</th>\n      <th>member_casual</th>\n    </tr>\n  </thead>\n  <tbody>\n    <tr>\n      <th>0</th>\n      <td>8FE8F7D9C10E88C7</td>\n      <td>electric_bike</td>\n      <td>2023-04-02 08:37:28</td>\n      <td>2023-04-02 08:41:37</td>\n      <td>NaN</td>\n      <td>NaN</td>\n      <td>NaN</td>\n      <td>NaN</td>\n      <td>41.80</td>\n      <td>-87.60</td>\n      <td>41.79</td>\n      <td>-87.60</td>\n      <td>member</td>\n    </tr>\n    <tr>\n      <th>1</th>\n      <td>34E4ED3ADF1D821B</td>\n      <td>electric_bike</td>\n      <td>2023-04-19 11:29:02</td>\n      <td>2023-04-19 11:52:12</td>\n      <td>NaN</td>\n      <td>NaN</td>\n      <td>NaN</td>\n      <td>NaN</td>\n      <td>41.87</td>\n      <td>-87.65</td>\n      <td>41.93</td>\n      <td>-87.68</td>\n      <td>member</td>\n    </tr>\n    <tr>\n      <th>2</th>\n      <td>5296BF07A2F77CB5</td>\n      <td>electric_bike</td>\n      <td>2023-04-19 08:41:22</td>\n      <td>2023-04-19 08:43:22</td>\n      <td>NaN</td>\n      <td>NaN</td>\n      <td>NaN</td>\n      <td>NaN</td>\n      <td>41.93</td>\n      <td>-87.66</td>\n      <td>41.93</td>\n      <td>-87.66</td>\n      <td>member</td>\n    </tr>\n    <tr>\n      <th>3</th>\n      <td>40759916B76D5D52</td>\n      <td>electric_bike</td>\n      <td>2023-04-19 13:31:30</td>\n      <td>2023-04-19 13:35:09</td>\n      <td>NaN</td>\n      <td>NaN</td>\n      <td>NaN</td>\n      <td>NaN</td>\n      <td>41.92</td>\n      <td>-87.65</td>\n      <td>41.91</td>\n      <td>-87.65</td>\n      <td>member</td>\n    </tr>\n    <tr>\n      <th>4</th>\n      <td>77A96F460101AC63</td>\n      <td>electric_bike</td>\n      <td>2023-04-19 12:05:36</td>\n      <td>2023-04-19 12:10:26</td>\n      <td>NaN</td>\n      <td>NaN</td>\n      <td>NaN</td>\n      <td>NaN</td>\n      <td>41.91</td>\n      <td>-87.65</td>\n      <td>41.91</td>\n      <td>-87.63</td>\n      <td>member</td>\n    </tr>\n    <tr>\n      <th>5</th>\n      <td>8D6A2328E19DC168</td>\n      <td>electric_bike</td>\n      <td>2023-04-19 12:17:34</td>\n      <td>2023-04-19 12:21:38</td>\n      <td>NaN</td>\n      <td>NaN</td>\n      <td>NaN</td>\n      <td>NaN</td>\n      <td>41.91</td>\n      <td>-87.63</td>\n      <td>41.92</td>\n      <td>-87.65</td>\n      <td>member</td>\n    </tr>\n    <tr>\n      <th>6</th>\n      <td>C97BBA66E07889F9</td>\n      <td>electric_bike</td>\n      <td>2023-04-19 09:35:48</td>\n      <td>2023-04-19 09:45:00</td>\n      <td>NaN</td>\n      <td>NaN</td>\n      <td>NaN</td>\n      <td>NaN</td>\n      <td>41.93</td>\n      <td>-87.66</td>\n      <td>41.91</td>\n      <td>-87.65</td>\n      <td>member</td>\n    </tr>\n    <tr>\n      <th>7</th>\n      <td>6687AD4C575FF734</td>\n      <td>electric_bike</td>\n      <td>2023-04-11 16:13:43</td>\n      <td>2023-04-11 16:18:41</td>\n      <td>NaN</td>\n      <td>NaN</td>\n      <td>NaN</td>\n      <td>NaN</td>\n      <td>42.00</td>\n      <td>-87.66</td>\n      <td>41.99</td>\n      <td>-87.66</td>\n      <td>member</td>\n    </tr>\n    <tr>\n      <th>8</th>\n      <td>A8FA4F73B22BC11F</td>\n      <td>electric_bike</td>\n      <td>2023-04-11 16:29:24</td>\n      <td>2023-04-11 16:40:23</td>\n      <td>NaN</td>\n      <td>NaN</td>\n      <td>NaN</td>\n      <td>NaN</td>\n      <td>41.99</td>\n      <td>-87.66</td>\n      <td>42.00</td>\n      <td>-87.66</td>\n      <td>member</td>\n    </tr>\n    <tr>\n      <th>9</th>\n      <td>81E158FE63D99994</td>\n      <td>electric_bike</td>\n      <td>2023-04-19 17:35:40</td>\n      <td>2023-04-19 17:36:11</td>\n      <td>NaN</td>\n      <td>NaN</td>\n      <td>NaN</td>\n      <td>NaN</td>\n      <td>41.88</td>\n      <td>-87.65</td>\n      <td>41.88</td>\n      <td>-87.65</td>\n      <td>member</td>\n    </tr>\n  </tbody>\n</table>\n</div>"
     },
     "execution_count": 6,
     "metadata": {},
     "output_type": "execute_result"
    }
   ],
   "source": [
    "df_apr = pd.read_csv(\"202304-divvy-tripdata.csv\")\n",
    "df_apr.info()\n",
    "df_apr.describe()\n",
    "df_apr.head(10)"
   ],
   "metadata": {
    "collapsed": false,
    "ExecuteTime": {
     "end_time": "2023-09-30T16:24:00.793666Z",
     "start_time": "2023-09-30T16:23:59.751693Z"
    }
   },
   "id": "9970411d8f45248e"
  },
  {
   "cell_type": "markdown",
   "source": [
    "#### Comment: <br>Dataset for Apr 2023 seems to follow the Reliable, Original, Comprehensive, Current and Cited (ROCCC) requirement.\n",
    "#### Will continue with a preliminary check on May and June dataset."
   ],
   "metadata": {
    "collapsed": false
   },
   "id": "23ea079a27fc2209"
  },
  {
   "cell_type": "code",
   "execution_count": 7,
   "outputs": [
    {
     "name": "stdout",
     "output_type": "stream",
     "text": [
      "<class 'pandas.core.frame.DataFrame'>\n",
      "RangeIndex: 604827 entries, 0 to 604826\n",
      "Data columns (total 13 columns):\n",
      " #   Column              Non-Null Count   Dtype  \n",
      "---  ------              --------------   -----  \n",
      " 0   ride_id             604827 non-null  object \n",
      " 1   rideable_type       604827 non-null  object \n",
      " 2   started_at          604827 non-null  object \n",
      " 3   ended_at            604827 non-null  object \n",
      " 4   start_station_name  515587 non-null  object \n",
      " 5   start_station_id    515587 non-null  object \n",
      " 6   end_station_name    509560 non-null  object \n",
      " 7   end_station_id      509560 non-null  object \n",
      " 8   start_lat           604827 non-null  float64\n",
      " 9   start_lng           604827 non-null  float64\n",
      " 10  end_lat             604117 non-null  float64\n",
      " 11  end_lng             604117 non-null  float64\n",
      " 12  member_casual       604827 non-null  object \n",
      "dtypes: float64(4), object(9)\n",
      "memory usage: 60.0+ MB\n",
      "<class 'pandas.core.frame.DataFrame'>\n",
      "RangeIndex: 719618 entries, 0 to 719617\n",
      "Data columns (total 13 columns):\n",
      " #   Column              Non-Null Count   Dtype  \n",
      "---  ------              --------------   -----  \n",
      " 0   ride_id             719618 non-null  object \n",
      " 1   rideable_type       719618 non-null  object \n",
      " 2   started_at          719618 non-null  object \n",
      " 3   ended_at            719618 non-null  object \n",
      " 4   start_station_name  603359 non-null  object \n",
      " 5   start_station_id    603359 non-null  object \n",
      " 6   end_station_name    595568 non-null  object \n",
      " 7   end_station_id      595568 non-null  object \n",
      " 8   start_lat           719618 non-null  float64\n",
      " 9   start_lng           719618 non-null  float64\n",
      " 10  end_lat             718729 non-null  float64\n",
      " 11  end_lng             718729 non-null  float64\n",
      " 12  member_casual       719618 non-null  object \n",
      "dtypes: float64(4), object(9)\n",
      "memory usage: 71.4+ MB\n"
     ]
    }
   ],
   "source": [
    "df_may = pd.read_csv(\"202305-divvy-tripdata.csv\")\n",
    "df_jun = pd.read_csv(\"202306-divvy-tripdata.csv\")\n",
    "df_may.info()\n",
    "df_jun.info()"
   ],
   "metadata": {
    "collapsed": false,
    "ExecuteTime": {
     "end_time": "2023-09-30T16:24:04.403674Z",
     "start_time": "2023-09-30T16:24:00.788943Z"
    }
   },
   "id": "b134c6940f8ccbfc"
  },
  {
   "cell_type": "markdown",
   "source": [
    "#### Comment: <br> May and June dataset seem to be ROCCC as well."
   ],
   "metadata": {
    "collapsed": false
   },
   "id": "3d7dc53044947c93"
  },
  {
   "cell_type": "markdown",
   "source": [
    "## Response To *__Prepare__* \n",
    "### We will be analyzing the first 3 months of FY 2023-24 (Apr-Jun) for this study. The data used originates from the trip data available at (https://divvy-tripdata.s3.amazonaws.com/index.html) which is provided as a part of the case study.<br><br> The dataset contains details of bike-trips for the users of Cyclistic Bike Share service.<br><br> A preliminary study on the dataset reveals that it is indeed ROCCC and can be used for the analysis."
   ],
   "metadata": {
    "collapsed": false
   },
   "id": "788f1176df5f3902"
  },
  {
   "cell_type": "markdown",
   "source": [
    "# 3. *__Process__*\n",
    "### Key tasks\n",
    "#### 1. Check the data for errors.<br>2. Choose your tools.<br>3. Transform the data so you can work with it effectively.<br>4. Document the cleaning process.\n",
    "### Deliverable: <br> Documentation of any cleaning or manipulation of data."
   ],
   "metadata": {
    "collapsed": false
   },
   "id": "e29e3422c58bc874"
  },
  {
   "cell_type": "markdown",
   "source": [
    "## 3.1 Checking for errors.\n",
    "#### We start by analyzing null values in the datasets."
   ],
   "metadata": {
    "collapsed": false
   },
   "id": "54483e6655fbce94"
  },
  {
   "cell_type": "code",
   "execution_count": 18,
   "outputs": [
    {
     "name": "stdout",
     "output_type": "stream",
     "text": [
      "All values unique.\n",
      "Null count in Apr: ride_id                    0\n",
      "rideable_type              0\n",
      "started_at                 0\n",
      "ended_at                   0\n",
      "start_station_name    269313\n",
      "start_station_id      269313\n",
      "end_station_name      287947\n",
      "end_station_id        287947\n",
      "start_lat                  0\n",
      "start_lng                  0\n",
      "end_lat                 2034\n",
      "end_lng                 2034\n",
      "member_casual              0\n",
      "dtype: int64\n"
     ]
    }
   ],
   "source": [
    "#Combined all df for future use\n",
    "df = pd.concat([df_apr, df_may, df_jun])\n",
    "df.reset_index(drop=True, inplace=True)\n",
    "\n",
    "print(\"All values unique.\" if df.ride_id.nunique()==df.shape[0] else \"All values not unique.\")\n",
    "print(\"Null count in Apr:\",df.isnull().sum())"
   ],
   "metadata": {
    "collapsed": false,
    "ExecuteTime": {
     "end_time": "2023-09-30T19:32:06.608789Z",
     "start_time": "2023-09-30T19:32:04.844725Z"
    }
   },
   "id": "1fd4ca4197442447"
  },
  {
   "cell_type": "markdown",
   "source": [
    "#### Comment:<br>Apart from the primary key - ride_id, bike_type, start_time, end_time, member_type, and start location coordinates seem to be quite reliable, having 0 null values each.\n",
    "## Preliminary conclusions drawn from this data (To be further explored and confirmed):\n",
    "### 1. Every trip has completed as there is no null values in ended_at.<br> 2. All the ride_id values are unique and can be considered the primary key for the df. <br> 3. ride_id can be used to count number of rides based on different parameters.\n",
    "## While the data might have quite a few null values, using the provided data we can answer the question asked with minimal data cleaning. (Data processing and cleaning followed hereafter)"
   ],
   "metadata": {
    "collapsed": false
   },
   "id": "4b91458268c0129d"
  },
  {
   "cell_type": "markdown",
   "source": [
    "## 3.2 Choose Your Tools - Python, Pandas, Numpy, Seaborn"
   ],
   "metadata": {
    "collapsed": false
   },
   "id": "5363fef3552a1b25"
  },
  {
   "cell_type": "markdown",
   "source": [
    "## 3.3 Transform your data\n",
    "### We start by converting few of the columns into a more readable format."
   ],
   "metadata": {
    "collapsed": false
   },
   "id": "dbbe502ad515ad1d"
  },
  {
   "cell_type": "code",
   "execution_count": 20,
   "outputs": [],
   "source": [
    "#Storing a copy incase any transformation goes haywire.\n",
    "df_backup = df.copy()"
   ],
   "metadata": {
    "collapsed": false,
    "ExecuteTime": {
     "end_time": "2023-09-30T19:37:07.662834Z",
     "start_time": "2023-09-30T19:37:07.372152Z"
    }
   },
   "id": "9f1efffdd53cf4db"
  },
  {
   "cell_type": "code",
   "execution_count": 25,
   "outputs": [],
   "source": [
    "# Converted to datetime\n",
    "df['started_at'] = pd.to_datetime(df[\"started_at\"])\n",
    "df['ended_at'] = pd.to_datetime(df[\"ended_at\"])\n",
    "\n",
    "#Calculating ride length\n",
    "df['ride_length'] = df['ended_at'] - df['started_at']"
   ],
   "metadata": {
    "collapsed": false,
    "ExecuteTime": {
     "end_time": "2023-09-30T19:59:47.731029Z",
     "start_time": "2023-09-30T19:59:47.610886Z"
    }
   },
   "id": "f81bcede92b94d1c"
  },
  {
   "cell_type": "code",
   "execution_count": 26,
   "outputs": [],
   "source": [
    "df['day_of_week'] = df['started_at'].dt.day_name()"
   ],
   "metadata": {
    "collapsed": false,
    "ExecuteTime": {
     "end_time": "2023-09-30T19:59:49.278633Z",
     "start_time": "2023-09-30T19:59:49.068671Z"
    }
   },
   "id": "25150de344c1c8a8"
  },
  {
   "cell_type": "code",
   "execution_count": 27,
   "outputs": [],
   "source": [
    "columns_to_remove = ['start_lat', 'start_lng', 'end_lat', 'end_lng']\n",
    "df.drop(columns=columns_to_remove, inplace=True)"
   ],
   "metadata": {
    "collapsed": false,
    "ExecuteTime": {
     "end_time": "2023-09-30T20:02:01.038781Z",
     "start_time": "2023-09-30T20:02:00.886105Z"
    }
   },
   "id": "cf9826a70bc47124"
  },
  {
   "cell_type": "markdown",
   "source": [
    "## Conclusion:\n",
    "### The following transformations were performed for our analysis:\n",
    "### 1. Added new columns - ride_length and 'day_of_week' signifying the duration of the trip and the day of week based on the start time. <br> 2. Removed lat and lng values as they are not helpful in determining the distance travelled (the bike can be parked in the starting spot again). "
   ],
   "metadata": {
    "collapsed": false
   },
   "id": "edca7ef7fdaf283a"
  },
  {
   "cell_type": "code",
   "execution_count": null,
   "outputs": [],
   "source": [],
   "metadata": {
    "collapsed": false
   },
   "id": "a9600ca1df30877a"
  }
 ],
 "metadata": {
  "kernelspec": {
   "display_name": "Python 3",
   "language": "python",
   "name": "python3"
  },
  "language_info": {
   "codemirror_mode": {
    "name": "ipython",
    "version": 2
   },
   "file_extension": ".py",
   "mimetype": "text/x-python",
   "name": "python",
   "nbconvert_exporter": "python",
   "pygments_lexer": "ipython2",
   "version": "2.7.6"
  }
 },
 "nbformat": 4,
 "nbformat_minor": 5
}
