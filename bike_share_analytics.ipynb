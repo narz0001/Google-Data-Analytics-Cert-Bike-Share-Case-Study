{
 "cells": [
  {
   "cell_type": "markdown",
   "source": [
    "# Bike Share Market Strategy Case Study for Google Data Analytics Certification \n",
    "## (Details in the Readme file) <br> We will follow A-P-P-A-S-A Framework."
   ],
   "metadata": {
    "collapsed": false
   },
   "id": "a07b7789ed793306"
  },
  {
   "cell_type": "markdown",
   "source": [
    "# 1. *__Ask__*\n",
    "### ● What is the problem you are trying to solve?<br> ● How can your insights drive business decisions?<br><br> Key tasks\n",
    "#### 1. Identify the business task<br>2. Consider key stakeholders\n",
    "### Deliverable: <br> A clear statement of the business task"
   ],
   "metadata": {
    "collapsed": false
   },
   "id": "3bfd20a3af73e282"
  },
  {
   "cell_type": "markdown",
   "source": [
    "## Response To *__Ask__* \n",
    "### Identify trends using historical bike trip data to understand the difference between Casual vs. Annual members and the reason for annual subscriptions, to drive Marketing campaigns targeted to convert Casual members to Annual members."
   ],
   "metadata": {
    "collapsed": false
   },
   "id": "a3d9cfefb012356"
  },
  {
   "cell_type": "code",
   "execution_count": null,
   "outputs": [],
   "source": [],
   "metadata": {
    "collapsed": false
   },
   "id": "3388fa6656a00bd2"
  }
 ],
 "metadata": {
  "kernelspec": {
   "display_name": "Python 3",
   "language": "python",
   "name": "python3"
  },
  "language_info": {
   "codemirror_mode": {
    "name": "ipython",
    "version": 2
   },
   "file_extension": ".py",
   "mimetype": "text/x-python",
   "name": "python",
   "nbconvert_exporter": "python",
   "pygments_lexer": "ipython2",
   "version": "2.7.6"
  }
 },
 "nbformat": 4,
 "nbformat_minor": 5
}
