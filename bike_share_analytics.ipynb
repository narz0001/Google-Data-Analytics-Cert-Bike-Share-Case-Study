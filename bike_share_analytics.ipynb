{
 "cells": [
  {
   "cell_type": "markdown",
   "source": [
    "# Bike Share Market Strategy Case Study for Google Data Analytics Certification \n",
    "## (Details in the Readme file) <br> We will follow A-P-P-A-S-A Framework."
   ],
   "metadata": {
    "collapsed": false
   },
   "id": "a07b7789ed793306"
  },
  {
   "cell_type": "markdown",
   "source": [
    "# 1. *__Ask__*\n",
    "### ● What is the problem you are trying to solve?<br> ● How can your insights drive business decisions?<br><br> Key tasks\n",
    "#### 1. Identify the business task<br>2. Consider key stakeholders\n",
    "### Deliverable: <br> A clear statement of the business task"
   ],
   "metadata": {
    "collapsed": false
   },
   "id": "3bfd20a3af73e282"
  },
  {
   "cell_type": "markdown",
   "source": [
    "## Response To *__Ask__* \n",
    "### Identify trends using historical bike trip data to understand the difference between Casual vs. Annual members and the reason for annual subscriptions, to drive Marketing campaigns targeted to convert Casual members to Annual members."
   ],
   "metadata": {
    "collapsed": false
   },
   "id": "a3d9cfefb012356"
  },
  {
   "cell_type": "markdown",
   "source": [
    "# 2. *__Prepare__*\n",
    "### ● Data preparation and elementary review on the dataset<br><br> Key tasks\n",
    "#### 1. Download data and store it appropriately.<br>2. Identify how it’s organized.<br>3. Sort and filter the data.<br>4. Determine the credibility of the data.\n",
    "### Deliverable: <br> A description of all data sources used."
   ],
   "metadata": {
    "collapsed": false
   },
   "id": "3ad536e665d025df"
  },
  {
   "cell_type": "code",
   "execution_count": 5,
   "outputs": [],
   "source": [
    "import pandas as pd\n",
    "import numpy as np"
   ],
   "metadata": {
    "collapsed": false,
    "ExecuteTime": {
     "end_time": "2023-09-30T16:23:59.838457Z",
     "start_time": "2023-09-30T16:23:59.743653Z"
    }
   },
   "id": "e559d8056defd7f3"
  },
  {
   "cell_type": "code",
   "execution_count": 6,
   "outputs": [
    {
     "name": "stdout",
     "output_type": "stream",
     "text": [
      "<class 'pandas.core.frame.DataFrame'>\n",
      "RangeIndex: 426590 entries, 0 to 426589\n",
      "Data columns (total 13 columns):\n",
      " #   Column              Non-Null Count   Dtype  \n",
      "---  ------              --------------   -----  \n",
      " 0   ride_id             426590 non-null  object \n",
      " 1   rideable_type       426590 non-null  object \n",
      " 2   started_at          426590 non-null  object \n",
      " 3   ended_at            426590 non-null  object \n",
      " 4   start_station_name  362776 non-null  object \n",
      " 5   start_station_id    362776 non-null  object \n",
      " 6   end_station_name    357960 non-null  object \n",
      " 7   end_station_id      357960 non-null  object \n",
      " 8   start_lat           426590 non-null  float64\n",
      " 9   start_lng           426590 non-null  float64\n",
      " 10  end_lat             426155 non-null  float64\n",
      " 11  end_lng             426155 non-null  float64\n",
      " 12  member_casual       426590 non-null  object \n",
      "dtypes: float64(4), object(9)\n",
      "memory usage: 42.3+ MB\n"
     ]
    },
    {
     "data": {
      "text/plain": "            ride_id  rideable_type           started_at             ended_at  \\\n0  8FE8F7D9C10E88C7  electric_bike  2023-04-02 08:37:28  2023-04-02 08:41:37   \n1  34E4ED3ADF1D821B  electric_bike  2023-04-19 11:29:02  2023-04-19 11:52:12   \n2  5296BF07A2F77CB5  electric_bike  2023-04-19 08:41:22  2023-04-19 08:43:22   \n3  40759916B76D5D52  electric_bike  2023-04-19 13:31:30  2023-04-19 13:35:09   \n4  77A96F460101AC63  electric_bike  2023-04-19 12:05:36  2023-04-19 12:10:26   \n5  8D6A2328E19DC168  electric_bike  2023-04-19 12:17:34  2023-04-19 12:21:38   \n6  C97BBA66E07889F9  electric_bike  2023-04-19 09:35:48  2023-04-19 09:45:00   \n7  6687AD4C575FF734  electric_bike  2023-04-11 16:13:43  2023-04-11 16:18:41   \n8  A8FA4F73B22BC11F  electric_bike  2023-04-11 16:29:24  2023-04-11 16:40:23   \n9  81E158FE63D99994  electric_bike  2023-04-19 17:35:40  2023-04-19 17:36:11   \n\n  start_station_name start_station_id end_station_name end_station_id  \\\n0                NaN              NaN              NaN            NaN   \n1                NaN              NaN              NaN            NaN   \n2                NaN              NaN              NaN            NaN   \n3                NaN              NaN              NaN            NaN   \n4                NaN              NaN              NaN            NaN   \n5                NaN              NaN              NaN            NaN   \n6                NaN              NaN              NaN            NaN   \n7                NaN              NaN              NaN            NaN   \n8                NaN              NaN              NaN            NaN   \n9                NaN              NaN              NaN            NaN   \n\n   start_lat  start_lng  end_lat  end_lng member_casual  \n0      41.80     -87.60    41.79   -87.60        member  \n1      41.87     -87.65    41.93   -87.68        member  \n2      41.93     -87.66    41.93   -87.66        member  \n3      41.92     -87.65    41.91   -87.65        member  \n4      41.91     -87.65    41.91   -87.63        member  \n5      41.91     -87.63    41.92   -87.65        member  \n6      41.93     -87.66    41.91   -87.65        member  \n7      42.00     -87.66    41.99   -87.66        member  \n8      41.99     -87.66    42.00   -87.66        member  \n9      41.88     -87.65    41.88   -87.65        member  ",
      "text/html": "<div>\n<style scoped>\n    .dataframe tbody tr th:only-of-type {\n        vertical-align: middle;\n    }\n\n    .dataframe tbody tr th {\n        vertical-align: top;\n    }\n\n    .dataframe thead th {\n        text-align: right;\n    }\n</style>\n<table border=\"1\" class=\"dataframe\">\n  <thead>\n    <tr style=\"text-align: right;\">\n      <th></th>\n      <th>ride_id</th>\n      <th>rideable_type</th>\n      <th>started_at</th>\n      <th>ended_at</th>\n      <th>start_station_name</th>\n      <th>start_station_id</th>\n      <th>end_station_name</th>\n      <th>end_station_id</th>\n      <th>start_lat</th>\n      <th>start_lng</th>\n      <th>end_lat</th>\n      <th>end_lng</th>\n      <th>member_casual</th>\n    </tr>\n  </thead>\n  <tbody>\n    <tr>\n      <th>0</th>\n      <td>8FE8F7D9C10E88C7</td>\n      <td>electric_bike</td>\n      <td>2023-04-02 08:37:28</td>\n      <td>2023-04-02 08:41:37</td>\n      <td>NaN</td>\n      <td>NaN</td>\n      <td>NaN</td>\n      <td>NaN</td>\n      <td>41.80</td>\n      <td>-87.60</td>\n      <td>41.79</td>\n      <td>-87.60</td>\n      <td>member</td>\n    </tr>\n    <tr>\n      <th>1</th>\n      <td>34E4ED3ADF1D821B</td>\n      <td>electric_bike</td>\n      <td>2023-04-19 11:29:02</td>\n      <td>2023-04-19 11:52:12</td>\n      <td>NaN</td>\n      <td>NaN</td>\n      <td>NaN</td>\n      <td>NaN</td>\n      <td>41.87</td>\n      <td>-87.65</td>\n      <td>41.93</td>\n      <td>-87.68</td>\n      <td>member</td>\n    </tr>\n    <tr>\n      <th>2</th>\n      <td>5296BF07A2F77CB5</td>\n      <td>electric_bike</td>\n      <td>2023-04-19 08:41:22</td>\n      <td>2023-04-19 08:43:22</td>\n      <td>NaN</td>\n      <td>NaN</td>\n      <td>NaN</td>\n      <td>NaN</td>\n      <td>41.93</td>\n      <td>-87.66</td>\n      <td>41.93</td>\n      <td>-87.66</td>\n      <td>member</td>\n    </tr>\n    <tr>\n      <th>3</th>\n      <td>40759916B76D5D52</td>\n      <td>electric_bike</td>\n      <td>2023-04-19 13:31:30</td>\n      <td>2023-04-19 13:35:09</td>\n      <td>NaN</td>\n      <td>NaN</td>\n      <td>NaN</td>\n      <td>NaN</td>\n      <td>41.92</td>\n      <td>-87.65</td>\n      <td>41.91</td>\n      <td>-87.65</td>\n      <td>member</td>\n    </tr>\n    <tr>\n      <th>4</th>\n      <td>77A96F460101AC63</td>\n      <td>electric_bike</td>\n      <td>2023-04-19 12:05:36</td>\n      <td>2023-04-19 12:10:26</td>\n      <td>NaN</td>\n      <td>NaN</td>\n      <td>NaN</td>\n      <td>NaN</td>\n      <td>41.91</td>\n      <td>-87.65</td>\n      <td>41.91</td>\n      <td>-87.63</td>\n      <td>member</td>\n    </tr>\n    <tr>\n      <th>5</th>\n      <td>8D6A2328E19DC168</td>\n      <td>electric_bike</td>\n      <td>2023-04-19 12:17:34</td>\n      <td>2023-04-19 12:21:38</td>\n      <td>NaN</td>\n      <td>NaN</td>\n      <td>NaN</td>\n      <td>NaN</td>\n      <td>41.91</td>\n      <td>-87.63</td>\n      <td>41.92</td>\n      <td>-87.65</td>\n      <td>member</td>\n    </tr>\n    <tr>\n      <th>6</th>\n      <td>C97BBA66E07889F9</td>\n      <td>electric_bike</td>\n      <td>2023-04-19 09:35:48</td>\n      <td>2023-04-19 09:45:00</td>\n      <td>NaN</td>\n      <td>NaN</td>\n      <td>NaN</td>\n      <td>NaN</td>\n      <td>41.93</td>\n      <td>-87.66</td>\n      <td>41.91</td>\n      <td>-87.65</td>\n      <td>member</td>\n    </tr>\n    <tr>\n      <th>7</th>\n      <td>6687AD4C575FF734</td>\n      <td>electric_bike</td>\n      <td>2023-04-11 16:13:43</td>\n      <td>2023-04-11 16:18:41</td>\n      <td>NaN</td>\n      <td>NaN</td>\n      <td>NaN</td>\n      <td>NaN</td>\n      <td>42.00</td>\n      <td>-87.66</td>\n      <td>41.99</td>\n      <td>-87.66</td>\n      <td>member</td>\n    </tr>\n    <tr>\n      <th>8</th>\n      <td>A8FA4F73B22BC11F</td>\n      <td>electric_bike</td>\n      <td>2023-04-11 16:29:24</td>\n      <td>2023-04-11 16:40:23</td>\n      <td>NaN</td>\n      <td>NaN</td>\n      <td>NaN</td>\n      <td>NaN</td>\n      <td>41.99</td>\n      <td>-87.66</td>\n      <td>42.00</td>\n      <td>-87.66</td>\n      <td>member</td>\n    </tr>\n    <tr>\n      <th>9</th>\n      <td>81E158FE63D99994</td>\n      <td>electric_bike</td>\n      <td>2023-04-19 17:35:40</td>\n      <td>2023-04-19 17:36:11</td>\n      <td>NaN</td>\n      <td>NaN</td>\n      <td>NaN</td>\n      <td>NaN</td>\n      <td>41.88</td>\n      <td>-87.65</td>\n      <td>41.88</td>\n      <td>-87.65</td>\n      <td>member</td>\n    </tr>\n  </tbody>\n</table>\n</div>"
     },
     "execution_count": 6,
     "metadata": {},
     "output_type": "execute_result"
    }
   ],
   "source": [
    "df_apr = pd.read_csv(\"202304-divvy-tripdata.csv\")\n",
    "df_apr.info()\n",
    "df_apr.describe()\n",
    "df_apr.head(10)"
   ],
   "metadata": {
    "collapsed": false,
    "ExecuteTime": {
     "end_time": "2023-09-30T16:24:00.793666Z",
     "start_time": "2023-09-30T16:23:59.751693Z"
    }
   },
   "id": "9970411d8f45248e"
  },
  {
   "cell_type": "markdown",
   "source": [
    "#### Comment: <br>Dataset for Apr 2023 seems to follow the Reliable, Original, Comprehensive, Current and Cited (ROCCC) requirement.\n",
    "#### Will continue with a preliminary check on May and June dataset."
   ],
   "metadata": {
    "collapsed": false
   },
   "id": "23ea079a27fc2209"
  },
  {
   "cell_type": "code",
   "execution_count": 7,
   "outputs": [
    {
     "name": "stdout",
     "output_type": "stream",
     "text": [
      "<class 'pandas.core.frame.DataFrame'>\n",
      "RangeIndex: 604827 entries, 0 to 604826\n",
      "Data columns (total 13 columns):\n",
      " #   Column              Non-Null Count   Dtype  \n",
      "---  ------              --------------   -----  \n",
      " 0   ride_id             604827 non-null  object \n",
      " 1   rideable_type       604827 non-null  object \n",
      " 2   started_at          604827 non-null  object \n",
      " 3   ended_at            604827 non-null  object \n",
      " 4   start_station_name  515587 non-null  object \n",
      " 5   start_station_id    515587 non-null  object \n",
      " 6   end_station_name    509560 non-null  object \n",
      " 7   end_station_id      509560 non-null  object \n",
      " 8   start_lat           604827 non-null  float64\n",
      " 9   start_lng           604827 non-null  float64\n",
      " 10  end_lat             604117 non-null  float64\n",
      " 11  end_lng             604117 non-null  float64\n",
      " 12  member_casual       604827 non-null  object \n",
      "dtypes: float64(4), object(9)\n",
      "memory usage: 60.0+ MB\n",
      "<class 'pandas.core.frame.DataFrame'>\n",
      "RangeIndex: 719618 entries, 0 to 719617\n",
      "Data columns (total 13 columns):\n",
      " #   Column              Non-Null Count   Dtype  \n",
      "---  ------              --------------   -----  \n",
      " 0   ride_id             719618 non-null  object \n",
      " 1   rideable_type       719618 non-null  object \n",
      " 2   started_at          719618 non-null  object \n",
      " 3   ended_at            719618 non-null  object \n",
      " 4   start_station_name  603359 non-null  object \n",
      " 5   start_station_id    603359 non-null  object \n",
      " 6   end_station_name    595568 non-null  object \n",
      " 7   end_station_id      595568 non-null  object \n",
      " 8   start_lat           719618 non-null  float64\n",
      " 9   start_lng           719618 non-null  float64\n",
      " 10  end_lat             718729 non-null  float64\n",
      " 11  end_lng             718729 non-null  float64\n",
      " 12  member_casual       719618 non-null  object \n",
      "dtypes: float64(4), object(9)\n",
      "memory usage: 71.4+ MB\n"
     ]
    }
   ],
   "source": [
    "df_may = pd.read_csv(\"202305-divvy-tripdata.csv\")\n",
    "df_jun = pd.read_csv(\"202306-divvy-tripdata.csv\")\n",
    "df_may.info()\n",
    "df_jun.info()"
   ],
   "metadata": {
    "collapsed": false,
    "ExecuteTime": {
     "end_time": "2023-09-30T16:24:04.403674Z",
     "start_time": "2023-09-30T16:24:00.788943Z"
    }
   },
   "id": "b134c6940f8ccbfc"
  },
  {
   "cell_type": "markdown",
   "source": [
    "#### Comment: <br> May and June dataset seem to be ROCCC as well."
   ],
   "metadata": {
    "collapsed": false
   },
   "id": "3d7dc53044947c93"
  },
  {
   "cell_type": "markdown",
   "source": [
    "## Response To *__Prepare__* \n",
    "### We will be analyzing the first 3 months of FY 2023-24 (Apr-Jun) for this study. The data used originates from the trip data available at (https://divvy-tripdata.s3.amazonaws.com/index.html) which is provided as a part of the case study.<br><br> The dataset contains details of bike-trips for the users of Cyclistic Bike Share service.<br><br> A preliminary study on the dataset reveals that it is indeed ROCCC and can be used for the analysis."
   ],
   "metadata": {
    "collapsed": false
   },
   "id": "788f1176df5f3902"
  },
  {
   "cell_type": "markdown",
   "source": [
    "# 3. *__Process__*\n",
    "### Key tasks\n",
    "#### 1. Check the data for errors.<br>2. Choose your tools.<br>3. Transform the data so you can work with it effectively.<br>4. Document the cleaning process.\n",
    "### Deliverable: <br> Documentation of any cleaning or manipulation of data."
   ],
   "metadata": {
    "collapsed": false
   },
   "id": "e29e3422c58bc874"
  },
  {
   "cell_type": "markdown",
   "source": [
    "#### We start by analyzing null values in the datasets."
   ],
   "metadata": {
    "collapsed": false
   },
   "id": "54483e6655fbce94"
  },
  {
   "cell_type": "code",
   "execution_count": 8,
   "outputs": [
    {
     "name": "stdout",
     "output_type": "stream",
     "text": [
      "Null count in Apr: ride_id                   0\n",
      "rideable_type             0\n",
      "started_at                0\n",
      "ended_at                  0\n",
      "start_station_name    63814\n",
      "start_station_id      63814\n",
      "end_station_name      68630\n",
      "end_station_id        68630\n",
      "start_lat                 0\n",
      "start_lng                 0\n",
      "end_lat                 435\n",
      "end_lng                 435\n",
      "member_casual             0\n",
      "dtype: int64\n"
     ]
    }
   ],
   "source": [
    "print(\"Null count in Apr:\",df_apr.isnull().sum())"
   ],
   "metadata": {
    "collapsed": false,
    "ExecuteTime": {
     "end_time": "2023-09-30T16:24:04.602028Z",
     "start_time": "2023-09-30T16:24:04.239185Z"
    }
   },
   "id": "1fd4ca4197442447"
  },
  {
   "cell_type": "markdown",
   "source": [
    "#### Comment:<br>Apart from the primary key - ride_id, bike_type, start_time, end_time, member_type, and start location coordinates seem to be quite reliable, having 0 null values each.\n",
    "#### Station names and id for both start along with ending coordinates seem to be the issue. Let's further investigate few of these cases.\n",
    "### 3.1 Investigate missing and uneven start and end station id/names"
   ],
   "metadata": {
    "collapsed": false
   },
   "id": "4b91458268c0129d"
  },
  {
   "cell_type": "code",
   "execution_count": 10,
   "outputs": [
    {
     "data": {
      "text/plain": "              ride_id  rideable_type           started_at  \\\n28   8936AA6E8D57572E  electric_bike  2023-04-21 20:40:44   \n123  C14FC8B566D06DA8  electric_bike  2023-04-27 18:54:33   \n249  62D4BD561EF92234  electric_bike  2023-04-21 18:01:04   \n288  59D9C085B07268AC  electric_bike  2023-04-15 13:34:10   \n297  126A53B30E6DC376  electric_bike  2023-04-03 07:51:36   \n332  2333641422D7B6DE  electric_bike  2023-04-17 11:48:19   \n378  CE757C127CC38E7C  electric_bike  2023-04-24 23:02:30   \n389  E826DA0CCA666902  electric_bike  2023-04-26 17:06:35   \n467  21EB373FBF2C6C26  electric_bike  2023-04-12 19:50:27   \n470  EA5CFDA9CF9826A2  electric_bike  2023-04-02 23:09:01   \n\n                ended_at              start_station_name start_station_id  \\\n28   2023-04-21 20:48:44            Kenosha & Wellington              361   \n123  2023-04-27 19:05:50    California Ave & Division St            13256   \n249  2023-04-21 18:11:05  California Ave & Milwaukee Ave            13084   \n288  2023-04-15 13:57:35     Campbell Ave & Montrose Ave            15623   \n297  2023-04-03 08:00:45           Wood St & Chicago Ave              637   \n332  2023-04-17 11:54:33  California Ave & Milwaukee Ave            13084   \n378  2023-04-24 23:05:49  California Ave & Milwaukee Ave            13084   \n389  2023-04-26 17:12:34  California Ave & Milwaukee Ave            13084   \n467  2023-04-12 20:09:01  California Ave & Milwaukee Ave            13084   \n470  2023-04-02 23:12:38  California Ave & Milwaukee Ave            13084   \n\n    end_station_name end_station_id  start_lat  start_lng  end_lat  end_lng  \\\n28               NaN            NaN  41.930000 -87.730000    41.93   -87.71   \n123              NaN            NaN  41.903010 -87.697637    41.90   -87.67   \n249              NaN            NaN  41.922660 -87.697057    41.92   -87.67   \n288              NaN            NaN  41.961605 -87.691177    41.97   -87.66   \n297              NaN            NaN  41.895670 -87.672320    41.87   -87.68   \n332              NaN            NaN  41.922672 -87.697164    41.91   -87.70   \n378              NaN            NaN  41.922692 -87.697145    41.91   -87.70   \n389              NaN            NaN  41.922745 -87.697295    41.94   -87.69   \n467              NaN            NaN  41.922663 -87.697167    41.89   -87.67   \n470              NaN            NaN  41.922688 -87.697211    41.91   -87.70   \n\n    member_casual  \n28         member  \n123        member  \n249        member  \n288        member  \n297        member  \n332        member  \n378        member  \n389        member  \n467        member  \n470        member  ",
      "text/html": "<div>\n<style scoped>\n    .dataframe tbody tr th:only-of-type {\n        vertical-align: middle;\n    }\n\n    .dataframe tbody tr th {\n        vertical-align: top;\n    }\n\n    .dataframe thead th {\n        text-align: right;\n    }\n</style>\n<table border=\"1\" class=\"dataframe\">\n  <thead>\n    <tr style=\"text-align: right;\">\n      <th></th>\n      <th>ride_id</th>\n      <th>rideable_type</th>\n      <th>started_at</th>\n      <th>ended_at</th>\n      <th>start_station_name</th>\n      <th>start_station_id</th>\n      <th>end_station_name</th>\n      <th>end_station_id</th>\n      <th>start_lat</th>\n      <th>start_lng</th>\n      <th>end_lat</th>\n      <th>end_lng</th>\n      <th>member_casual</th>\n    </tr>\n  </thead>\n  <tbody>\n    <tr>\n      <th>28</th>\n      <td>8936AA6E8D57572E</td>\n      <td>electric_bike</td>\n      <td>2023-04-21 20:40:44</td>\n      <td>2023-04-21 20:48:44</td>\n      <td>Kenosha &amp; Wellington</td>\n      <td>361</td>\n      <td>NaN</td>\n      <td>NaN</td>\n      <td>41.930000</td>\n      <td>-87.730000</td>\n      <td>41.93</td>\n      <td>-87.71</td>\n      <td>member</td>\n    </tr>\n    <tr>\n      <th>123</th>\n      <td>C14FC8B566D06DA8</td>\n      <td>electric_bike</td>\n      <td>2023-04-27 18:54:33</td>\n      <td>2023-04-27 19:05:50</td>\n      <td>California Ave &amp; Division St</td>\n      <td>13256</td>\n      <td>NaN</td>\n      <td>NaN</td>\n      <td>41.903010</td>\n      <td>-87.697637</td>\n      <td>41.90</td>\n      <td>-87.67</td>\n      <td>member</td>\n    </tr>\n    <tr>\n      <th>249</th>\n      <td>62D4BD561EF92234</td>\n      <td>electric_bike</td>\n      <td>2023-04-21 18:01:04</td>\n      <td>2023-04-21 18:11:05</td>\n      <td>California Ave &amp; Milwaukee Ave</td>\n      <td>13084</td>\n      <td>NaN</td>\n      <td>NaN</td>\n      <td>41.922660</td>\n      <td>-87.697057</td>\n      <td>41.92</td>\n      <td>-87.67</td>\n      <td>member</td>\n    </tr>\n    <tr>\n      <th>288</th>\n      <td>59D9C085B07268AC</td>\n      <td>electric_bike</td>\n      <td>2023-04-15 13:34:10</td>\n      <td>2023-04-15 13:57:35</td>\n      <td>Campbell Ave &amp; Montrose Ave</td>\n      <td>15623</td>\n      <td>NaN</td>\n      <td>NaN</td>\n      <td>41.961605</td>\n      <td>-87.691177</td>\n      <td>41.97</td>\n      <td>-87.66</td>\n      <td>member</td>\n    </tr>\n    <tr>\n      <th>297</th>\n      <td>126A53B30E6DC376</td>\n      <td>electric_bike</td>\n      <td>2023-04-03 07:51:36</td>\n      <td>2023-04-03 08:00:45</td>\n      <td>Wood St &amp; Chicago Ave</td>\n      <td>637</td>\n      <td>NaN</td>\n      <td>NaN</td>\n      <td>41.895670</td>\n      <td>-87.672320</td>\n      <td>41.87</td>\n      <td>-87.68</td>\n      <td>member</td>\n    </tr>\n    <tr>\n      <th>332</th>\n      <td>2333641422D7B6DE</td>\n      <td>electric_bike</td>\n      <td>2023-04-17 11:48:19</td>\n      <td>2023-04-17 11:54:33</td>\n      <td>California Ave &amp; Milwaukee Ave</td>\n      <td>13084</td>\n      <td>NaN</td>\n      <td>NaN</td>\n      <td>41.922672</td>\n      <td>-87.697164</td>\n      <td>41.91</td>\n      <td>-87.70</td>\n      <td>member</td>\n    </tr>\n    <tr>\n      <th>378</th>\n      <td>CE757C127CC38E7C</td>\n      <td>electric_bike</td>\n      <td>2023-04-24 23:02:30</td>\n      <td>2023-04-24 23:05:49</td>\n      <td>California Ave &amp; Milwaukee Ave</td>\n      <td>13084</td>\n      <td>NaN</td>\n      <td>NaN</td>\n      <td>41.922692</td>\n      <td>-87.697145</td>\n      <td>41.91</td>\n      <td>-87.70</td>\n      <td>member</td>\n    </tr>\n    <tr>\n      <th>389</th>\n      <td>E826DA0CCA666902</td>\n      <td>electric_bike</td>\n      <td>2023-04-26 17:06:35</td>\n      <td>2023-04-26 17:12:34</td>\n      <td>California Ave &amp; Milwaukee Ave</td>\n      <td>13084</td>\n      <td>NaN</td>\n      <td>NaN</td>\n      <td>41.922745</td>\n      <td>-87.697295</td>\n      <td>41.94</td>\n      <td>-87.69</td>\n      <td>member</td>\n    </tr>\n    <tr>\n      <th>467</th>\n      <td>21EB373FBF2C6C26</td>\n      <td>electric_bike</td>\n      <td>2023-04-12 19:50:27</td>\n      <td>2023-04-12 20:09:01</td>\n      <td>California Ave &amp; Milwaukee Ave</td>\n      <td>13084</td>\n      <td>NaN</td>\n      <td>NaN</td>\n      <td>41.922663</td>\n      <td>-87.697167</td>\n      <td>41.89</td>\n      <td>-87.67</td>\n      <td>member</td>\n    </tr>\n    <tr>\n      <th>470</th>\n      <td>EA5CFDA9CF9826A2</td>\n      <td>electric_bike</td>\n      <td>2023-04-02 23:09:01</td>\n      <td>2023-04-02 23:12:38</td>\n      <td>California Ave &amp; Milwaukee Ave</td>\n      <td>13084</td>\n      <td>NaN</td>\n      <td>NaN</td>\n      <td>41.922688</td>\n      <td>-87.697211</td>\n      <td>41.91</td>\n      <td>-87.70</td>\n      <td>member</td>\n    </tr>\n  </tbody>\n</table>\n</div>"
     },
     "execution_count": 10,
     "metadata": {},
     "output_type": "execute_result"
    }
   ],
   "source": [
    "df_subset = df_apr[df_apr['start_station_name'].notnull() & df_apr['end_station_name'].isnull()]\n",
    "df_subset.head(10)"
   ],
   "metadata": {
    "collapsed": false,
    "ExecuteTime": {
     "end_time": "2023-09-30T17:28:48.107869Z",
     "start_time": "2023-09-30T17:28:48.038274Z"
    }
   },
   "id": "e0f0586c1988b7e3"
  },
  {
   "cell_type": "code",
   "execution_count": null,
   "outputs": [],
   "source": [],
   "metadata": {
    "collapsed": false
   },
   "id": "e254f83fef40f1e9"
  }
 ],
 "metadata": {
  "kernelspec": {
   "display_name": "Python 3",
   "language": "python",
   "name": "python3"
  },
  "language_info": {
   "codemirror_mode": {
    "name": "ipython",
    "version": 2
   },
   "file_extension": ".py",
   "mimetype": "text/x-python",
   "name": "python",
   "nbconvert_exporter": "python",
   "pygments_lexer": "ipython2",
   "version": "2.7.6"
  }
 },
 "nbformat": 4,
 "nbformat_minor": 5
}
